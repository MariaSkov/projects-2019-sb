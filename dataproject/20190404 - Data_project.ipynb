{
 "cells": [
  {
   "cell_type": "markdown",
   "metadata": {},
   "source": [
    "# Data project\n",
    "In this project we investigate statistics from all FIFA World Cup tournaments from 1930-2014. The main question we want to answer is: \"Who has been the all time most succesfull coach in the world cup?\". We answer this question by calculating the win-ratio of all coaches as the share of wins out of the total number of games played at World Cups. Furthermore, we describe the performances of some of the most succesfull teams in the World Cup. "
   ]
  },
  {
   "cell_type": "code",
   "execution_count": 1,
   "metadata": {},
   "outputs": [],
   "source": [
    "import pandas as pd\n",
    "import matplotlib.pyplot as plt\n",
    "from matplotlib_venn import venn2\n",
    "#from ipywidgets import interact, interactive, fixed, interact_manual\n",
    "import ipywidgets as widgets"
   ]
  },
  {
   "cell_type": "markdown",
   "metadata": {},
   "source": [
    "The data used in this assignment is downloaded from www.kaggle.com, but it originates from the FIFA website. We use data from three different CSV-files, which are imported as dataframes below. "
   ]
  },
  {
   "cell_type": "code",
   "execution_count": 2,
   "metadata": {},
   "outputs": [],
   "source": [
    "worldcups = pd.read_csv('WorldCups.csv')\n",
    "matches = pd.read_csv('WorldCupMatches.csv')\n",
    "players = pd.read_csv('WorldCupPlayers.csv')"
   ]
  },
  {
   "cell_type": "markdown",
   "metadata": {},
   "source": [
    "We want different informations from the different dataframes. The coach names are extracted from the dataset WorldCupPlayers. The dataset includes one row for every player for every game at World Cup tournaments from 1930 to 2014, but we only need the coach names for every match. Therefore, we drop the duplicate rows, ending up with a DataFrame containing the names of the two coaches for every MatchID. "
   ]
  },
  {
   "cell_type": "code",
   "execution_count": 3,
   "metadata": {},
   "outputs": [
    {
     "data": {
      "text/html": [
       "<div>\n",
       "<style scoped>\n",
       "    .dataframe tbody tr th:only-of-type {\n",
       "        vertical-align: middle;\n",
       "    }\n",
       "\n",
       "    .dataframe tbody tr th {\n",
       "        vertical-align: top;\n",
       "    }\n",
       "\n",
       "    .dataframe thead th {\n",
       "        text-align: right;\n",
       "    }\n",
       "</style>\n",
       "<table border=\"1\" class=\"dataframe\">\n",
       "  <thead>\n",
       "    <tr style=\"text-align: right;\">\n",
       "      <th></th>\n",
       "      <th>MatchID</th>\n",
       "      <th>Coach Name</th>\n",
       "    </tr>\n",
       "  </thead>\n",
       "  <tbody>\n",
       "    <tr>\n",
       "      <th>0</th>\n",
       "      <td>1096</td>\n",
       "      <td>CAUDRON Raoul (FRA)</td>\n",
       "    </tr>\n",
       "    <tr>\n",
       "      <th>1</th>\n",
       "      <td>1096</td>\n",
       "      <td>LUQUE Juan (MEX)</td>\n",
       "    </tr>\n",
       "    <tr>\n",
       "      <th>33</th>\n",
       "      <td>1090</td>\n",
       "      <td>MILLAR Bob (USA)</td>\n",
       "    </tr>\n",
       "    <tr>\n",
       "      <th>34</th>\n",
       "      <td>1090</td>\n",
       "      <td>GOETINCK Hector (BEL)</td>\n",
       "    </tr>\n",
       "    <tr>\n",
       "      <th>65</th>\n",
       "      <td>1093</td>\n",
       "      <td>SIMONOVIC Bosko (YUG)</td>\n",
       "    </tr>\n",
       "  </tbody>\n",
       "</table>\n",
       "</div>"
      ],
      "text/plain": [
       "    MatchID             Coach Name\n",
       "0      1096    CAUDRON Raoul (FRA)\n",
       "1      1096       LUQUE Juan (MEX)\n",
       "33     1090       MILLAR Bob (USA)\n",
       "34     1090  GOETINCK Hector (BEL)\n",
       "65     1093  SIMONOVIC Bosko (YUG)"
      ]
     },
     "execution_count": 3,
     "metadata": {},
     "output_type": "execute_result"
    }
   ],
   "source": [
    "coaches = players[['MatchID', 'Coach Name']]\n",
    "coaches = coaches.drop_duplicates()\n",
    "coaches.head()"
   ]
  },
  {
   "cell_type": "markdown",
   "metadata": {},
   "source": [
    "Since the dataset only includes the scores, and not explicity the winner of each game, we define a function that evaluates a winning team based on the scores and apply this to a new column in our matches dataframe. Thus, we only consider the score after normal and extended game-time, meaning that potential penalty shoot-outs are not taken into account. "
   ]
  },
  {
   "cell_type": "code",
   "execution_count": 4,
   "metadata": {},
   "outputs": [],
   "source": [
    "def winning_team(X): \n",
    "    ### Function returns the initials of the team, who scored the most goals. In case of a tie: 'draw'. \n",
    "    if X['Home Team Goals'] > X['Away Team Goals']:\n",
    "        return X['Home Team Initials']\n",
    "    if X['Home Team Goals'] < X['Away Team Goals']:\n",
    "        return X['Away Team Initials'] \n",
    "    else:\n",
    "        return 'draw'\n",
    "\n",
    "matches['winning_team'] = matches.apply(winning_team,axis=1)"
   ]
  },
  {
   "cell_type": "markdown",
   "metadata": {},
   "source": [
    "We now merge the two dataframes on the \"MatchID\" to get the coach name and all the match information in one dataframe"
   ]
  },
  {
   "cell_type": "code",
   "execution_count": 5,
   "metadata": {},
   "outputs": [],
   "source": [
    "merged = pd.merge(matches, coaches, how = 'left', on = ['MatchID'] )"
   ]
  },
  {
   "cell_type": "markdown",
   "metadata": {},
   "source": [
    "To be able to work with data for the coaches' names as well as their countries, we split up the Coach Name column into to separate columns; Coach Name and Coach Team. "
   ]
  },
  {
   "cell_type": "code",
   "execution_count": 6,
   "metadata": {},
   "outputs": [],
   "source": [
    "merged['Coach Team'] = merged['Coach Name'].str[-4:-1]\n",
    "merged['Coach Name'] = merged['Coach Name'].str[:-6]"
   ]
  },
  {
   "cell_type": "markdown",
   "metadata": {},
   "source": [
    "In order to analyse the coaches' success during World Cups, we calculate the winning ratio of each coach as the share of games won out of played games. "
   ]
  },
  {
   "cell_type": "code",
   "execution_count": 20,
   "metadata": {},
   "outputs": [
    {
     "data": {
      "text/html": [
       "<div>\n",
       "<style scoped>\n",
       "    .dataframe tbody tr th:only-of-type {\n",
       "        vertical-align: middle;\n",
       "    }\n",
       "\n",
       "    .dataframe tbody tr th {\n",
       "        vertical-align: top;\n",
       "    }\n",
       "\n",
       "    .dataframe thead th {\n",
       "        text-align: right;\n",
       "    }\n",
       "</style>\n",
       "<table border=\"1\" class=\"dataframe\">\n",
       "  <thead>\n",
       "    <tr style=\"text-align: right;\">\n",
       "      <th></th>\n",
       "      <th>Matches played</th>\n",
       "      <th>Matches won</th>\n",
       "      <th>winning_ratio</th>\n",
       "    </tr>\n",
       "    <tr>\n",
       "      <th>Coach Name</th>\n",
       "      <th></th>\n",
       "      <th></th>\n",
       "      <th></th>\n",
       "    </tr>\n",
       "  </thead>\n",
       "  <tbody>\n",
       "    <tr>\n",
       "      <th>SUPPICI Alberto</th>\n",
       "      <td>4</td>\n",
       "      <td>4.0</td>\n",
       "      <td>100.000000</td>\n",
       "    </tr>\n",
       "    <tr>\n",
       "      <th>POZZO Vittorio</th>\n",
       "      <td>9</td>\n",
       "      <td>8.0</td>\n",
       "      <td>88.888889</td>\n",
       "    </tr>\n",
       "    <tr>\n",
       "      <th>Bert VAN MARWIJK</th>\n",
       "      <td>7</td>\n",
       "      <td>6.0</td>\n",
       "      <td>85.714286</td>\n",
       "    </tr>\n",
       "    <tr>\n",
       "      <th>JACQUET Aime</th>\n",
       "      <td>7</td>\n",
       "      <td>6.0</td>\n",
       "      <td>85.714286</td>\n",
       "    </tr>\n",
       "    <tr>\n",
       "      <th>VICINI Azeglio</th>\n",
       "      <td>7</td>\n",
       "      <td>6.0</td>\n",
       "      <td>85.714286</td>\n",
       "    </tr>\n",
       "    <tr>\n",
       "      <th>GORSKI Kazimierz</th>\n",
       "      <td>7</td>\n",
       "      <td>6.0</td>\n",
       "      <td>85.714286</td>\n",
       "    </tr>\n",
       "    <tr>\n",
       "      <th>MOREIRA Aymore</th>\n",
       "      <td>6</td>\n",
       "      <td>5.0</td>\n",
       "      <td>83.333333</td>\n",
       "    </tr>\n",
       "    <tr>\n",
       "      <th>LOEW Joachim</th>\n",
       "      <td>18</td>\n",
       "      <td>15.0</td>\n",
       "      <td>83.333333</td>\n",
       "    </tr>\n",
       "    <tr>\n",
       "      <th>MARADONA Diego</th>\n",
       "      <td>5</td>\n",
       "      <td>4.0</td>\n",
       "      <td>80.000000</td>\n",
       "    </tr>\n",
       "    <tr>\n",
       "      <th>OLAZAR Francisco</th>\n",
       "      <td>5</td>\n",
       "      <td>4.0</td>\n",
       "      <td>80.000000</td>\n",
       "    </tr>\n",
       "  </tbody>\n",
       "</table>\n",
       "</div>"
      ],
      "text/plain": [
       "                  Matches played  Matches won  winning_ratio\n",
       "Coach Name                                                  \n",
       "SUPPICI Alberto                4          4.0     100.000000\n",
       "POZZO Vittorio                 9          8.0      88.888889\n",
       "Bert VAN MARWIJK               7          6.0      85.714286\n",
       "JACQUET Aime                   7          6.0      85.714286\n",
       "VICINI Azeglio                 7          6.0      85.714286\n",
       "GORSKI Kazimierz               7          6.0      85.714286\n",
       "MOREIRA Aymore                 6          5.0      83.333333\n",
       "LOEW Joachim                  18         15.0      83.333333\n",
       "MARADONA Diego                 5          4.0      80.000000\n",
       "OLAZAR Francisco               5          4.0      80.000000"
      ]
     },
     "execution_count": 20,
     "metadata": {},
     "output_type": "execute_result"
    }
   ],
   "source": [
    "#Firstly we count the number of games per coach\n",
    "games_coach = merged.groupby(['Coach Name']).agg(['count'])\n",
    "games_coach = games_coach['Year']\n",
    "games_coach.rename(columns={'count':'Matches played'}, inplace=True)\n",
    "\n",
    "#We then find the number of wins per coach\n",
    "wins_coach = merged.loc[merged['Coach Team'] == merged['winning_team']].groupby(['Coach Name']).agg(['count'])\n",
    "wins_coach = wins_coach['Year']\n",
    "wins_coach.rename(columns={'count':'Matches won'}, inplace=True)\n",
    "\n",
    "#We then combine the two dataframes and caculate the winratio\n",
    "coach_stats = pd.merge(games_coach, wins_coach, how = 'left', on = 'Coach Name')\n",
    "coach_stats = coach_stats.fillna(0)\n",
    "\n",
    "coach_stats['winning_ratio'] = coach_stats['Matches won'] / coach_stats['Matches played'] * 100 \n",
    "coach_stats = coach_stats.sort_values(by = ['winning_ratio'], ascending = False)\n",
    "\n",
    "coach_stats.head(10)"
   ]
  },
  {
   "cell_type": "code",
   "execution_count": 24,
   "metadata": {},
   "outputs": [
    {
     "data": {
      "text/html": [
       "<div>\n",
       "<style scoped>\n",
       "    .dataframe tbody tr th:only-of-type {\n",
       "        vertical-align: middle;\n",
       "    }\n",
       "\n",
       "    .dataframe tbody tr th {\n",
       "        vertical-align: top;\n",
       "    }\n",
       "\n",
       "    .dataframe thead th {\n",
       "        text-align: right;\n",
       "    }\n",
       "</style>\n",
       "<table border=\"1\" class=\"dataframe\">\n",
       "  <thead>\n",
       "    <tr style=\"text-align: right;\">\n",
       "      <th></th>\n",
       "      <th>Matches played</th>\n",
       "      <th>Matches won</th>\n",
       "      <th>winning_ratio</th>\n",
       "    </tr>\n",
       "  </thead>\n",
       "  <tbody>\n",
       "    <tr>\n",
       "      <th>count</th>\n",
       "      <td>334.000000</td>\n",
       "      <td>334.000000</td>\n",
       "      <td>334.000000</td>\n",
       "    </tr>\n",
       "    <tr>\n",
       "      <th>mean</th>\n",
       "      <td>5.101796</td>\n",
       "      <td>1.583832</td>\n",
       "      <td>24.404831</td>\n",
       "    </tr>\n",
       "    <tr>\n",
       "      <th>std</th>\n",
       "      <td>3.825212</td>\n",
       "      <td>2.393154</td>\n",
       "      <td>26.171198</td>\n",
       "    </tr>\n",
       "    <tr>\n",
       "      <th>min</th>\n",
       "      <td>1.000000</td>\n",
       "      <td>0.000000</td>\n",
       "      <td>0.000000</td>\n",
       "    </tr>\n",
       "    <tr>\n",
       "      <th>25%</th>\n",
       "      <td>3.000000</td>\n",
       "      <td>0.000000</td>\n",
       "      <td>0.000000</td>\n",
       "    </tr>\n",
       "    <tr>\n",
       "      <th>50%</th>\n",
       "      <td>4.000000</td>\n",
       "      <td>1.000000</td>\n",
       "      <td>25.000000</td>\n",
       "    </tr>\n",
       "    <tr>\n",
       "      <th>75%</th>\n",
       "      <td>6.000000</td>\n",
       "      <td>2.000000</td>\n",
       "      <td>40.000000</td>\n",
       "    </tr>\n",
       "    <tr>\n",
       "      <th>max</th>\n",
       "      <td>25.000000</td>\n",
       "      <td>16.000000</td>\n",
       "      <td>100.000000</td>\n",
       "    </tr>\n",
       "  </tbody>\n",
       "</table>\n",
       "</div>"
      ],
      "text/plain": [
       "       Matches played  Matches won  winning_ratio\n",
       "count      334.000000   334.000000     334.000000\n",
       "mean         5.101796     1.583832      24.404831\n",
       "std          3.825212     2.393154      26.171198\n",
       "min          1.000000     0.000000       0.000000\n",
       "25%          3.000000     0.000000       0.000000\n",
       "50%          4.000000     1.000000      25.000000\n",
       "75%          6.000000     2.000000      40.000000\n",
       "max         25.000000    16.000000     100.000000"
      ]
     },
     "execution_count": 24,
     "metadata": {},
     "output_type": "execute_result"
    }
   ],
   "source": [
    "coach_stats.describe()"
   ]
  },
  {
   "cell_type": "markdown",
   "metadata": {},
   "source": [
    "The average winning ratio for coaches in the World Cup is just under 25%, and 334 coaches have been in the world cup from 1930 to 2014. This number is being dragged down by a lot of coaches who only played one or two matches, and never won any, which also appears from the 25 percentile of 0% winning ratios. We see as well from the table above that some of the coaches with the highest winning ratios have only played very few games. To examine more deeply the coaches who played a few more games, we create the dataframes below for coaches who have played more than 10 and 15 games, respectively."
   ]
  },
  {
   "cell_type": "code",
   "execution_count": 27,
   "metadata": {},
   "outputs": [
    {
     "data": {
      "text/html": [
       "<div>\n",
       "<style scoped>\n",
       "    .dataframe tbody tr th:only-of-type {\n",
       "        vertical-align: middle;\n",
       "    }\n",
       "\n",
       "    .dataframe tbody tr th {\n",
       "        vertical-align: top;\n",
       "    }\n",
       "\n",
       "    .dataframe thead th {\n",
       "        text-align: right;\n",
       "    }\n",
       "</style>\n",
       "<table border=\"1\" class=\"dataframe\">\n",
       "  <thead>\n",
       "    <tr style=\"text-align: right;\">\n",
       "      <th></th>\n",
       "      <th>Matches played</th>\n",
       "      <th>Matches won</th>\n",
       "      <th>winning_ratio</th>\n",
       "    </tr>\n",
       "    <tr>\n",
       "      <th>Coach Name</th>\n",
       "      <th></th>\n",
       "      <th></th>\n",
       "      <th></th>\n",
       "    </tr>\n",
       "  </thead>\n",
       "  <tbody>\n",
       "    <tr>\n",
       "      <th>LOEW Joachim</th>\n",
       "      <td>18</td>\n",
       "      <td>15.0</td>\n",
       "      <td>83.333333</td>\n",
       "    </tr>\n",
       "    <tr>\n",
       "      <th>SANTANA Tele</th>\n",
       "      <td>10</td>\n",
       "      <td>8.0</td>\n",
       "      <td>80.000000</td>\n",
       "    </tr>\n",
       "    <tr>\n",
       "      <th>DEL BOSQUE Vicente</th>\n",
       "      <td>10</td>\n",
       "      <td>7.0</td>\n",
       "      <td>70.000000</td>\n",
       "    </tr>\n",
       "    <tr>\n",
       "      <th>RAMSEY Alf</th>\n",
       "      <td>10</td>\n",
       "      <td>7.0</td>\n",
       "      <td>70.000000</td>\n",
       "    </tr>\n",
       "    <tr>\n",
       "      <th>ZAGALLO Mario</th>\n",
       "      <td>20</td>\n",
       "      <td>13.0</td>\n",
       "      <td>65.000000</td>\n",
       "    </tr>\n",
       "  </tbody>\n",
       "</table>\n",
       "</div>"
      ],
      "text/plain": [
       "                    Matches played  Matches won  winning_ratio\n",
       "Coach Name                                                    \n",
       "LOEW Joachim                    18         15.0      83.333333\n",
       "SANTANA Tele                    10          8.0      80.000000\n",
       "DEL BOSQUE Vicente              10          7.0      70.000000\n",
       "RAMSEY Alf                      10          7.0      70.000000\n",
       "ZAGALLO Mario                   20         13.0      65.000000"
      ]
     },
     "execution_count": 27,
     "metadata": {},
     "output_type": "execute_result"
    }
   ],
   "source": [
    "min10 = coach_stats.loc[coach_stats['Matches played'] >= 10]\n",
    "min15 = coach_stats.loc[coach_stats['Matches played'] >= 15]\n",
    "min10.head()"
   ]
  },
  {
   "cell_type": "code",
   "execution_count": 15,
   "metadata": {},
   "outputs": [
    {
     "data": {
      "text/html": [
       "<div>\n",
       "<style scoped>\n",
       "    .dataframe tbody tr th:only-of-type {\n",
       "        vertical-align: middle;\n",
       "    }\n",
       "\n",
       "    .dataframe tbody tr th {\n",
       "        vertical-align: top;\n",
       "    }\n",
       "\n",
       "    .dataframe thead th {\n",
       "        text-align: right;\n",
       "    }\n",
       "</style>\n",
       "<table border=\"1\" class=\"dataframe\">\n",
       "  <thead>\n",
       "    <tr style=\"text-align: right;\">\n",
       "      <th></th>\n",
       "      <th>Matches played</th>\n",
       "      <th>Matches won</th>\n",
       "      <th>winning_ratio</th>\n",
       "    </tr>\n",
       "    <tr>\n",
       "      <th>Coach Name</th>\n",
       "      <th></th>\n",
       "      <th></th>\n",
       "      <th></th>\n",
       "    </tr>\n",
       "  </thead>\n",
       "  <tbody>\n",
       "    <tr>\n",
       "      <th>LOEW Joachim</th>\n",
       "      <td>18</td>\n",
       "      <td>15.0</td>\n",
       "      <td>83.333333</td>\n",
       "    </tr>\n",
       "    <tr>\n",
       "      <th>ZAGALLO Mario</th>\n",
       "      <td>20</td>\n",
       "      <td>13.0</td>\n",
       "      <td>65.000000</td>\n",
       "    </tr>\n",
       "    <tr>\n",
       "      <th>SCHOEN Helmut</th>\n",
       "      <td>25</td>\n",
       "      <td>16.0</td>\n",
       "      <td>64.000000</td>\n",
       "    </tr>\n",
       "    <tr>\n",
       "      <th>BEARZOT Enzo</th>\n",
       "      <td>18</td>\n",
       "      <td>9.0</td>\n",
       "      <td>50.000000</td>\n",
       "    </tr>\n",
       "    <tr>\n",
       "      <th>HERBERGER Sepp</th>\n",
       "      <td>18</td>\n",
       "      <td>9.0</td>\n",
       "      <td>50.000000</td>\n",
       "    </tr>\n",
       "  </tbody>\n",
       "</table>\n",
       "</div>"
      ],
      "text/plain": [
       "                Matches played  Matches won  winning_ratio\n",
       "Coach Name                                                \n",
       "LOEW Joachim                18         15.0      83.333333\n",
       "ZAGALLO Mario               20         13.0      65.000000\n",
       "SCHOEN Helmut               25         16.0      64.000000\n",
       "BEARZOT Enzo                18          9.0      50.000000\n",
       "HERBERGER Sepp              18          9.0      50.000000"
      ]
     },
     "execution_count": 15,
     "metadata": {},
     "output_type": "execute_result"
    }
   ],
   "source": [
    "min15.head()"
   ]
  },
  {
   "cell_type": "code",
   "execution_count": 43,
   "metadata": {},
   "outputs": [
    {
     "name": "stdout",
     "output_type": "stream",
     "text": [
      "Average winning ratio for number of games > 10:  41.58 %\n",
      "    33 coaches played more than 10 games in the world cup\n"
     ]
    }
   ],
   "source": [
    "avg10 = min10['winning_ratio'].mean()\n",
    "coaches10 = min10['winning_ratio'].count()\n",
    "\n",
    "print(f'Average winning ratio for number of games > 10: {avg10:6.2f} %')\n",
    "print(f'{coaches10:6.0f} coaches played more than 10 games in the world cup')"
   ]
  },
  {
   "cell_type": "markdown",
   "metadata": {},
   "source": [
    "We see from the statistics above, that the winning ratios are markably higher when coaches with only a few games are excluded, and the field is also heavily narrowing down to only 33 coaches who have played more than 10 games. The average winning ratios are now above 40%. The German coach, Joachim Loew is on top on both tables considering coaches with minimum 10 and 15 games played, with an impressive record of 15 wins in 18 games, yielding a winning ratio of 83.3%. \n",
    "\n",
    "$$\\textbf{Thus, according to our analysis, Joachim Loew is the all time most successfull World Cup coach.} $$"
   ]
  },
  {
   "cell_type": "markdown",
   "metadata": {},
   "source": [
    "![Most successfull coach](Loew.jpg \"Joachim Loew\")"
   ]
  },
  {
   "cell_type": "markdown",
   "metadata": {},
   "source": [
    "# Countries\n",
    "To obtain deeper knowledge about some of the countries and their coaches, 3 countries are chosen in this part of the assignment. Spain, the Netherlands and Germany are chosen, since they are all famous in international football and they all have coaches in top of the different conditioned dataframes from above - Del Bosque, Van Gaal and Loew. \n",
    "\n",
    "First we create a new dataframe which only includes the relevant information."
   ]
  },
  {
   "cell_type": "code",
   "execution_count": 57,
   "metadata": {},
   "outputs": [],
   "source": [
    "Coachdf = merged[['Year','MatchID','Home Team Initials','Home Team Goals'\n",
    "                 ,'Away Team Goals','Away Team Initials','winning_team','Coach Name','Coach Team']]"
   ]
  },
  {
   "cell_type": "markdown",
   "metadata": {},
   "source": [
    "We then create 5 series that count the number of occurrences which is used for further investigation. One that counts the number of games for each coach, one that counts the number of games for each country, one that count the number wins for each county per year. "
   ]
  },
  {
   "cell_type": "code",
   "execution_count": 58,
   "metadata": {},
   "outputs": [],
   "source": [
    "#The first counts the number of games for each coach\n",
    "NumberCoach=Coachdf.groupby(['Coach Team','Coach Name'])['winning_team'].count()\n",
    "\n",
    "#The second counts the number of games for each country\n",
    "NumberMatches=Coachdf.groupby(['winning_team'])['winning_team'].count()\n",
    "\n",
    "#We then create a new dataset that only includes the winnerteam per game.\n",
    "I = Coachdf['winning_team'] != Coachdf['Coach Team']\n",
    "Coachdf.drop(Coachdf[I].index, inplace=True)\n",
    "\n",
    "#The Third Series counts the number wins for each county per year, \n",
    "NumberWinsYear=Coachdf.groupby(['winning_team','Year'])['winning_team'].count() \n",
    "\n",
    "#The fouth counts the number of wins for each coach. \n",
    "NumberWinsCoach=Coachdf.groupby(['winning_team','Coach Name'])['winning_team'].count()  \n",
    "\n",
    "#The fifth counts the number of wins for each country.  \n",
    "NumberWins=Coachdf.groupby(['winning_team'])['winning_team'].count() "
   ]
  },
  {
   "cell_type": "code",
   "execution_count": 59,
   "metadata": {},
   "outputs": [],
   "source": [
    "Years = Coachdf['Year'].drop_duplicates()\n",
    "Year_df=pd.Series.to_frame(Years)\n",
    "GER=pd.Series.to_frame(NumberWinsYear['GER'])\n",
    "GER.rename(columns={'winning_team':'GER'}, inplace=True)\n",
    "\n",
    "ESP=pd.Series.to_frame(NumberWinsYear['ESP'])\n",
    "ESP.rename(columns={'winning_team':'ESP'}, inplace=True)\n",
    "\n",
    "NED=pd.Series.to_frame(NumberWinsYear['NED'])\n",
    "NED.rename(columns={'winning_team':'NED'}, inplace=True)\n",
    "\n",
    "# Merging all to one dataset\n",
    "Plot_data = pd.merge(Year_df, GER,how='left',on='Year')\n",
    "Plot_data = pd.merge(Plot_data, ESP,how='left',on='Year')\n",
    "Plot_data = pd.merge(Plot_data, NED,how='left',on='Year')"
   ]
  },
  {
   "cell_type": "code",
   "execution_count": 50,
   "metadata": {},
   "outputs": [],
   "source": [
    "def _plot_timeseries(dataframe, variable):\n",
    "    \n",
    "    fig = plt.figure(dpi=100)\n",
    "    ax = fig.add_subplot(1,1,1)\n",
    "    ax1 = fig.add_subplot(1,1,1)\n",
    "    \n",
    "    x = dataframe['Year']\n",
    "    y = dataframe[variable]\n",
    "    \n",
    "    ax.bar(x,y)\n",
    "    ax.set_xlabel('Year of World Cup')\n",
    "    ax.set_ylabel('Number of matches won')\n",
    "    ax.set_title('Number of matches won (' + str(variable) + ')')\n",
    "    ax.yaxis.grid(True, linestyle='--', which='major',\n",
    "                   color='grey', alpha=.25)\n",
    "    \n",
    "def plot_timeseries(dataframe):\n",
    "    \n",
    "    widgets.interact(_plot_timeseries, \n",
    "    dataframe = widgets.fixed(dataframe),\n",
    "    variable = widgets.Dropdown(\n",
    "        description='Country', \n",
    "        options=['GER','ESP','NED'], \n",
    "        value='GER')                 \n",
    "); "
   ]
  },
  {
   "cell_type": "code",
   "execution_count": 55,
   "metadata": {},
   "outputs": [
    {
     "data": {
      "application/vnd.jupyter.widget-view+json": {
       "model_id": "421101621d6c4655a5f8821bc5c95a3b",
       "version_major": 2,
       "version_minor": 0
      },
      "text/plain": [
       "interactive(children=(Dropdown(description='Country', options=('GER', 'ESP', 'NED'), value='GER'), Output()), …"
      ]
     },
     "metadata": {},
     "output_type": "display_data"
    }
   ],
   "source": [
    "plot_timeseries(Plot_data)"
   ]
  },
  {
   "cell_type": "markdown",
   "metadata": {},
   "source": [
    "The interactive plot above shows the number of matches won for each World Cup for each of the three countries. Navigating to the Germany plot, we clearly see Loew's World Cup victory with Germany in 2014. We also see that even though Spain won the 2010 world cup and the Netherlands got a second place, they actually won the same number of games that year. It is also worth noticing that Spain has qualified for every World Cup since 1986. \n",
    "\n",
    "Note: From the 1940's to the 1990's, Germany was split up, which explains the missing data in this period. West Germany is included in the dataset as Germany FR. \n",
    "\n",
    "We transform all series into dataframes in order to construct a venn diagram for each of the coaches. "
   ]
  },
  {
   "cell_type": "code",
   "execution_count": 60,
   "metadata": {},
   "outputs": [
    {
     "data": {
      "image/png": "[encoded data removed]",
      "text/plain": [
       "<Figure size 432x288 with 3 Axes>"
      ]
     },
     "metadata": {},
     "output_type": "display_data"
    }
   ],
   "source": [
    "#Convert the series to dataframe\n",
    "NumberWinsCoach_DF=pd.Series.to_frame(NumberWinsCoach)\n",
    "NumberWins_DF=pd.Series.to_frame(NumberWins)\n",
    "NumberCoach_DF=pd.Series.to_frame(NumberCoach)\n",
    "NumberMatches_DF=pd.Series.to_frame(NumberMatches)\n",
    "\n",
    "#We then rename the column winning._team, into what it actually shows. \n",
    "NumberWinsCoach_DF.rename(columns={'winning_team':'NumberWins'},inplace=True)\n",
    "NumberWins_DF.rename(columns={'winning_team':'NumberWins'},inplace=True)\n",
    "NumberCoach_DF.rename(columns={'winning_team':'NumberMatches'},inplace=True)\n",
    "\n",
    "#Creating Venn diagram for Spain\n",
    "plt.subplot(3,1, 1)\n",
    "venn2(subsets = (NumberWins_DF.at['ESP','NumberWins']\n",
    "                ,NumberCoach_DF.at[('ESP','DEL BOSQUE Vicente'),\"NumberMatches\"] \n",
    "                ,NumberWinsCoach_DF.at[('ESP','DEL BOSQUE Vicente'),\"NumberWins\"])\n",
    "      ,set_labels = ('Spain wins', 'Del Bosques games'))\n",
    "\n",
    "#Creating Venn diagram for Germany\n",
    "plt.subplot(3,1, 2)\n",
    "venn2(subsets = (NumberWins_DF.at['GER','NumberWins']\n",
    "                ,NumberCoach_DF.at[('GER','LOEW Joachim'),\"NumberMatches\"] \n",
    "                ,NumberWinsCoach_DF.at[('GER','LOEW Joachim'),\"NumberWins\"])\n",
    "      ,set_labels = ('Germany wins', 'Loews games'))\n",
    "\n",
    "#Creating Venn diagram for Netherlands\n",
    "plt.subplot(3,1,3)\n",
    "venn2(subsets = (NumberWins_DF.at['NED','NumberWins']\n",
    "                ,NumberCoach_DF.at[('NED','Louis VAN GAAL'),\"NumberMatches\"] \n",
    "                ,NumberWinsCoach_DF.at[('NED','Louis VAN GAAL'),\"NumberWins\"])\n",
    "      ,set_labels = ('Netherlands wins', 'Van Gaal''s games'))\n",
    "\n",
    "plt.show()"
   ]
  },
  {
   "cell_type": "markdown",
   "metadata": {},
   "source": [
    "The diagrams above show the number of games coached by each of the three coaches and the total number of wins by each of the nations. The diagrams show that out of Germanys 36 World Cup game wins, Loew has lead the team to almost half. Del Bosque and Van Gaal both led their teams to about a third of the nation's total World Cup wins. "
   ]
  },
  {
   "cell_type": "code",
   "execution_count": null,
   "metadata": {},
   "outputs": [],
   "source": []
  }
 ],
 "metadata": {
  "kernelspec": {
   "display_name": "Python 3",
   "language": "python",
   "name": "python3"
  },
  "language_info": {
   "codemirror_mode": {
    "name": "ipython",
    "version": 3
   },
   "file_extension": ".py",
   "mimetype": "text/x-python",
   "name": "python",
   "nbconvert_exporter": "python",
   "pygments_lexer": "ipython3",
   "version": "3.7.1"
  }
 },
 "nbformat": 4,
 "nbformat_minor": 2
}
